{
 "cells": [
  {
   "cell_type": "code",
   "execution_count": 2,
   "metadata": {},
   "outputs": [
    {
     "name": "stdout",
     "output_type": "stream",
     "text": [
      "Requirement already satisfied: polars in /Users/moraysmith/miniforge3/envs/python3/lib/python3.12/site-packages (0.20.31)\n",
      "Requirement already satisfied: matplotlib in /Users/moraysmith/miniforge3/envs/python3/lib/python3.12/site-packages (3.9.0)\n",
      "Requirement already satisfied: numpy in /Users/moraysmith/miniforge3/envs/python3/lib/python3.12/site-packages (2.0.0)\n",
      "Requirement already satisfied: pandas in /Users/moraysmith/miniforge3/envs/python3/lib/python3.12/site-packages (2.2.2)\n",
      "Requirement already satisfied: seaborn in /Users/moraysmith/miniforge3/envs/python3/lib/python3.12/site-packages (0.13.2)\n",
      "Requirement already satisfied: scikit-learn in /Users/moraysmith/miniforge3/envs/python3/lib/python3.12/site-packages (1.5.0)\n",
      "Requirement already satisfied: pyarrow in /Users/moraysmith/miniforge3/envs/python3/lib/python3.12/site-packages (16.1.0)\n",
      "Requirement already satisfied: biopython in /Users/moraysmith/miniforge3/envs/python3/lib/python3.12/site-packages (1.83)\n",
      "Requirement already satisfied: contourpy>=1.0.1 in /Users/moraysmith/miniforge3/envs/python3/lib/python3.12/site-packages (from matplotlib) (1.2.1)\n",
      "Requirement already satisfied: cycler>=0.10 in /Users/moraysmith/miniforge3/envs/python3/lib/python3.12/site-packages (from matplotlib) (0.12.1)\n",
      "Requirement already satisfied: fonttools>=4.22.0 in /Users/moraysmith/miniforge3/envs/python3/lib/python3.12/site-packages (from matplotlib) (4.53.0)\n",
      "Requirement already satisfied: kiwisolver>=1.3.1 in /Users/moraysmith/miniforge3/envs/python3/lib/python3.12/site-packages (from matplotlib) (1.4.5)\n",
      "Requirement already satisfied: packaging>=20.0 in /Users/moraysmith/miniforge3/envs/python3/lib/python3.12/site-packages (from matplotlib) (24.1)\n",
      "Requirement already satisfied: pillow>=8 in /Users/moraysmith/miniforge3/envs/python3/lib/python3.12/site-packages (from matplotlib) (10.3.0)\n",
      "Requirement already satisfied: pyparsing>=2.3.1 in /Users/moraysmith/miniforge3/envs/python3/lib/python3.12/site-packages (from matplotlib) (3.1.2)\n",
      "Requirement already satisfied: python-dateutil>=2.7 in /Users/moraysmith/miniforge3/envs/python3/lib/python3.12/site-packages (from matplotlib) (2.9.0)\n",
      "Requirement already satisfied: pytz>=2020.1 in /Users/moraysmith/miniforge3/envs/python3/lib/python3.12/site-packages (from pandas) (2024.1)\n",
      "Requirement already satisfied: tzdata>=2022.7 in /Users/moraysmith/miniforge3/envs/python3/lib/python3.12/site-packages (from pandas) (2024.1)\n",
      "Requirement already satisfied: scipy>=1.6.0 in /Users/moraysmith/miniforge3/envs/python3/lib/python3.12/site-packages (from scikit-learn) (1.13.1)\n",
      "Requirement already satisfied: joblib>=1.2.0 in /Users/moraysmith/miniforge3/envs/python3/lib/python3.12/site-packages (from scikit-learn) (1.4.2)\n",
      "Requirement already satisfied: threadpoolctl>=3.1.0 in /Users/moraysmith/miniforge3/envs/python3/lib/python3.12/site-packages (from scikit-learn) (3.5.0)\n",
      "Requirement already satisfied: six>=1.5 in /Users/moraysmith/miniforge3/envs/python3/lib/python3.12/site-packages (from python-dateutil>=2.7->matplotlib) (1.16.0)\n",
      "Note: you may need to restart the kernel to use updated packages.\n"
     ]
    }
   ],
   "source": [
    "%pip install polars matplotlib numpy pandas seaborn scikit-learn pyarrow biopython\n",
    "import polars as pl\n",
    "import matplotlib.pyplot as plt\n",
    "import numpy as np\n",
    "import pandas as pd\n",
    "import seaborn as sns\n",
    "import string\n",
    "import re\n",
    "from Bio import Phylo\n",
    "import os\n",
    "from matplotlib import gridspec\n",
    "from Bio import SeqIO\n",
    "from scipy.stats import fisher_exact\n",
    "\n",
    "sns.set_theme(context=\"paper\")"
   ]
  },
  {
   "cell_type": "code",
   "execution_count": 7,
   "metadata": {},
   "outputs": [],
   "source": [
    "hifiasm_coverm = (\n",
    "    pl.read_csv(\"hifiasm.asm.bp.p_utg.fa.coverm\", separator=\"\\t\", has_header=False, skip_rows=1)\n",
    "    .select(contig=\"column_1\", coverage=\"column_2\")\n",
    "    .with_columns(pl.lit(\"hifiasm\").alias(\"assembler\"))\n",
    ")\n",
    "\n",
    "canu_coverm = (\n",
    "    pl.read_csv(\"canu.coverm\", separator=\"\\t\", has_header=False, skip_rows=1)\n",
    "    .select(contig=\"column_1\", coverage=\"column_2\")\n",
    "    .with_columns(pl.lit(\"canu\").alias(\"assembler\"))\n",
    ")\n",
    "\n",
    "flye_coverm = (\n",
    "    pl.read_csv(\"flye.coverm\", separator=\"\\t\", has_header=False, skip_rows=1)\n",
    "    .select(contig=\"column_1\", coverage=\"column_2\")\n",
    "    .with_columns(pl.lit(\"flye\").alias(\"assembler\"))\n",
    ")\n",
    "\n",
    "coverm = pl.concat([hifiasm_coverm, canu_coverm, flye_coverm])"
   ]
  },
  {
   "cell_type": "code",
   "execution_count": 9,
   "metadata": {},
   "outputs": [
    {
     "data": {
      "text/plain": [
       "<Axes: xlabel='coverage', ylabel='Count'>"
      ]
     },
     "execution_count": 9,
     "metadata": {},
     "output_type": "execute_result"
    },
    {
     "data": {
      "image/png": "[encoded data removed]",
      "text/plain": [
       "<Figure size 640x480 with 1 Axes>"
      ]
     },
     "metadata": {},
     "output_type": "display_data"
    }
   ],
   "source": [
    "sns.displot(\n",
    "    flye_coverm,\n",
    "    x=\"coverage\",\n",
    "    y=\n",
    "\n",
    ")"
   ]
  }
 ],
 "metadata": {
  "kernelspec": {
   "display_name": "python3",
   "language": "python",
   "name": "python3"
  },
  "language_info": {
   "codemirror_mode": {
    "name": "ipython",
    "version": 3
   },
   "file_extension": ".py",
   "mimetype": "text/x-python",
   "name": "python",
   "nbconvert_exporter": "python",
   "pygments_lexer": "ipython3",
   "version": "3.12.3"
  }
 },
 "nbformat": 4,
 "nbformat_minor": 2
}
